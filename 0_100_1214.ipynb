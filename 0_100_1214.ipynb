{
 "cells": [
  {
   "cell_type": "code",
   "execution_count": 1,
   "id": "7f2e037c",
   "metadata": {},
   "outputs": [],
   "source": [
    "def revocerTree(root):\n",
    "    firstNode, secondNode, preNode = None, None, TreeNode(float('-inf'))\n",
    "    def traverese(root):\n",
    "        nonlocal firstNode, secondNode, preNode\n",
    "        if not root:\n",
    "            return \n",
    "        traverese(root.left)\n",
    "        if not firstNode and preNode.val>=root.val:\n",
    "            firstNode = preNode \n",
    "        if firstNode and preNoce.val>=root.val:\n",
    "            secondNode = root.val \n",
    "        preNode = root \n",
    "        traverese(root.right)\n",
    "    traverese(root)\n",
    "    firstNode.val, secondNode.val = secondNode.val, firstNode.val"
   ]
  },
  {
   "cell_type": "code",
   "execution_count": 2,
   "id": "5a5ec2a5",
   "metadata": {},
   "outputs": [],
   "source": [
    "def revoverTree(root):\n",
    "    first, second, pre = None, None, TreeNode(float('-inf'))\n",
    "    def func(root):\n",
    "        nonlocal first, second, pre \n",
    "        if not root:\n",
    "            return \n",
    "        func(root.left)\n",
    "        if not first and pre.val>=root.val:\n",
    "            first = pre\n",
    "        if first and pre.val>=root.val:\n",
    "            second = root.val \n",
    "        pre = root \n",
    "        func(root.right)\n",
    "    func(root)\n",
    "    first.val, second.val = second.val, first.val"
   ]
  },
  {
   "cell_type": "code",
   "execution_count": 3,
   "id": "4cb46c9d",
   "metadata": {},
   "outputs": [],
   "source": [
    "def recoverTree(root):\n",
    "    first, second, pre = None, None, TreeNode(float('-inf'))\n",
    "    def func(root):\n",
    "        nonlocal first, second, pre \n",
    "        if not root:\n",
    "            return \n",
    "        func(root.left)\n",
    "        if not first and pre.val>=root.val:\n",
    "            first = pre \n",
    "        if first and pre.val>=root.val:\n",
    "            second = root.val \n",
    "        pre = root \n",
    "        func(root.right)\n",
    "    func(root)\n",
    "    first.val, second.val = second.val, first.val"
   ]
  },
  {
   "cell_type": "code",
   "execution_count": 5,
   "id": "5728650b",
   "metadata": {},
   "outputs": [],
   "source": [
    "def recoverTree(root):\n",
    "    first, second, pre = None, None, TreeNode(float('-inf'))\n",
    "    def func(root):\n",
    "        nonlocal first, second, pre \n",
    "        if not root:\n",
    "            return \n",
    "        func(root.left)\n",
    "        if not first and pre.val>=root.val:\n",
    "            first = pre \n",
    "        if first and pre.val>=root.val:\n",
    "            second = root.val \n",
    "        pre = root \n",
    "        func(root.right)\n",
    "    func(root)\n",
    "    first.val, second.val = second.val, first.val"
   ]
  },
  {
   "cell_type": "code",
   "execution_count": 7,
   "id": "a68ddaaf",
   "metadata": {},
   "outputs": [],
   "source": [
    "def isValidBST(root):\n",
    "    def func(root, lower=float('-inf'), upper=float('inf')):\n",
    "        if not root:\n",
    "            return True \n",
    "        val = root.val \n",
    "        if val<=lower and val>=upper:\n",
    "            return False \n",
    "        return func(root.left, lower, val) and func(root.right, val, upper)\n",
    "    return func(root)"
   ]
  },
  {
   "cell_type": "code",
   "execution_count": 8,
   "id": "7451edb8",
   "metadata": {},
   "outputs": [],
   "source": [
    "def isValidBST(root):\n",
    "    def func(root, lower=float('-inf'), upper=float('inf')):\n",
    "        if not root:\n",
    "            return True\n",
    "        val = root.val \n",
    "        if val<=lower and val>=upper:\n",
    "            return False \n",
    "        return func(root.left, lower, val) and func(root.right, val, upper)\n",
    "    return func(root)"
   ]
  },
  {
   "cell_type": "code",
   "execution_count": 9,
   "id": "2083c352",
   "metadata": {},
   "outputs": [],
   "source": [
    "def isVlaid(root):\n",
    "    res = []\n",
    "    def inorder(root, res):\n",
    "        if not root:\n",
    "            return True\n",
    "        inorder(root.left, res)\n",
    "        res.append(root.val)\n",
    "        inorder(root.right, res)\n",
    "    inorder(root, res)\n",
    "    for i in range(1, len(res)):\n",
    "        if res[i-1]>=res[i]:\n",
    "            return False \n",
    "    return True"
   ]
  },
  {
   "cell_type": "code",
   "execution_count": 10,
   "id": "bc7bc382",
   "metadata": {},
   "outputs": [],
   "source": [
    "def isValid(root):\n",
    "    res = []\n",
    "    def inorder(root, res):\n",
    "        if not root:\n",
    "            return True\n",
    "        inorder(root.left, res)\n",
    "        res.append(root.val)\n",
    "        inorder(root.right, res)\n",
    "    inorder(root, res)\n",
    "    for i in range(1, len(res)):\n",
    "        if res[i-1]>=res[i]:\n",
    "            return False \n",
    "    return True"
   ]
  },
  {
   "cell_type": "code",
   "execution_count": 11,
   "id": "1f9202a0",
   "metadata": {},
   "outputs": [],
   "source": [
    "def treeNum(n):\n",
    "    res = [0] * (n+1)\n",
    "    res[0], res[1] = 1, 1\n",
    "    for i in range(2, n+1):\n",
    "        for j in range(i):\n",
    "            res[i] += res[j] * res[i-j-1]\n",
    "    return res[n]"
   ]
  },
  {
   "cell_type": "code",
   "execution_count": 12,
   "id": "f2d44e7b",
   "metadata": {},
   "outputs": [],
   "source": [
    "def numTree(n):\n",
    "    res = [0] * (n+1)\n",
    "    res[0], res[1] = 1, 1\n",
    "    for i in range(2, n+1):\n",
    "        for j in range(i):\n",
    "            res[i] += res[j] * res[i-1-j]\n",
    "    return res[n]"
   ]
  },
  {
   "cell_type": "code",
   "execution_count": 13,
   "id": "41aa0f55",
   "metadata": {},
   "outputs": [],
   "source": [
    "def numTrees(n):\n",
    "    res = [0] * (n+1)\n",
    "    res[0], res[1] = 1, 1\n",
    "    for i in range(2, n+1):\n",
    "        for j in range(i):\n",
    "            res[i] += res[j] + res[i-j-1]\n",
    "    return res[n]"
   ]
  },
  {
   "cell_type": "code",
   "execution_count": 15,
   "id": "b1e52910",
   "metadata": {},
   "outputs": [],
   "source": [
    "def generateTree(n):\n",
    "    if n==0:\n",
    "        return []\n",
    "    def func(left, right):\n",
    "        if left>right:\n",
    "            return [None]\n",
    "        res = []\n",
    "        for i in range(left, right+1):\n",
    "            left_nodes = func(left, i-1)\n",
    "            right_nodes = func(i+1, right)\n",
    "            for left_node in left_nodes:\n",
    "                for right_node in right_nodes:\n",
    "                    root = TreeNode(i)\n",
    "                    root.left = left_node \n",
    "                    root.right = right_node \n",
    "                    res.append(root)\n",
    "        return res \n",
    "        \n",
    "    return func(1, n)"
   ]
  },
  {
   "cell_type": "code",
   "execution_count": 16,
   "id": "9609c13b",
   "metadata": {},
   "outputs": [],
   "source": [
    "def inorder(root):\n",
    "    res, stack = [], []\n",
    "    while True:\n",
    "        while root:\n",
    "            stack.append(root)\n",
    "            root = root.left \n",
    "        if not stack:\n",
    "            return res \n",
    "        node = stack.pop()\n",
    "        res.append(node.val)\n",
    "        root = node.right"
   ]
  },
  {
   "cell_type": "code",
   "execution_count": 17,
   "id": "ae0bc012",
   "metadata": {},
   "outputs": [],
   "source": [
    "def inorder(root):\n",
    "    res, stack = [], []\n",
    "    while True:\n",
    "        while root:\n",
    "            stack.append(root)\n",
    "            root = root.left \n",
    "        if not stack:\n",
    "            return res \n",
    "        node = stack.pop()\n",
    "        res.append(node.val)\n",
    "        root = node.right"
   ]
  },
  {
   "cell_type": "code",
   "execution_count": 18,
   "id": "5372e047",
   "metadata": {},
   "outputs": [],
   "source": [
    "def reverse(head, m, n):\n",
    "    if not head:\n",
    "        return None \n",
    "    pre, cur = None, head \n",
    "    while m>1:\n",
    "        pre = cur\n",
    "        cur = cur.next \n",
    "        m -= 1\n",
    "        n -= 1\n",
    "    con, tail = pre, cur \n",
    "    while n:\n",
    "        third = cur.next \n",
    "        cur.next = pre \n",
    "        pre = cur \n",
    "        cur = third\n",
    "        n -= 1\n",
    "    if con:\n",
    "        con.next = pre \n",
    "    else:\n",
    "        head = pre \n",
    "    tail.next = cur \n",
    "    return head "
   ]
  },
  {
   "cell_type": "code",
   "execution_count": 19,
   "id": "6b093308",
   "metadata": {},
   "outputs": [],
   "source": [
    "def reverse(head, m, n):\n",
    "    if not head:\n",
    "        return None \n",
    "    pre, cur = None, head\n",
    "    while m>1:\n",
    "        pre = cur \n",
    "        cur = cur.next\n",
    "        m -= 1\n",
    "        n -= 1\n",
    "    con, tail = pre, cur\n",
    "    while n:\n",
    "        third = cur.next \n",
    "        cur.next = pre \n",
    "        pre = cur \n",
    "        cur = third \n",
    "        n -= 1\n",
    "    if con:\n",
    "        con.next = pre \n",
    "    else:\n",
    "        head = pre \n",
    "    tail.next = cur \n",
    "    return head "
   ]
  },
  {
   "cell_type": "code",
   "execution_count": 20,
   "id": "202c0104",
   "metadata": {},
   "outputs": [],
   "source": [
    "def subset(nums):\n",
    "    res = []\n",
    "    nums.sort()\n",
    "    dfs(nums, 0, [], res)\n",
    "    return res \n",
    "def dfs(nums, index, path, res):\n",
    "    if path not in res:\n",
    "        res.append(path)\n",
    "    for i in range(index, len(nums)):\n",
    "        if i>index and nums[i]==nums[i-1]:\n",
    "            continue \n",
    "        dfs(nums, i+1, path+[nums[i]], res)"
   ]
  },
  {
   "cell_type": "code",
   "execution_count": 21,
   "id": "eab21e09",
   "metadata": {},
   "outputs": [],
   "source": [
    "def subset(nums):\n",
    "    res = []\n",
    "    nums.sort()\n",
    "    dfs(nums, 0, [], res)\n",
    "    return res \n",
    "def dfs(nums, index, path, res):\n",
    "    if path not in res:\n",
    "        res.append(path)\n",
    "    for i in range(index, len(nums)):\n",
    "        if i>index and nums[i]!=nums[i-1]:\n",
    "            continue \n",
    "        dfs(nums, i+1, path+[nums[i]], res)"
   ]
  },
  {
   "cell_type": "code",
   "execution_count": 22,
   "id": "19a463b5",
   "metadata": {},
   "outputs": [],
   "source": [
    "def merge(nums1, nums2, m, n):\n",
    "    m -= 1\n",
    "    n -= 1\n",
    "    while m>=0 and n>=0:\n",
    "        if nums1[m]>nums2[n]:\n",
    "            nums1[m+n+1] = nums1[m]\n",
    "            m -= 1\n",
    "        else:\n",
    "            nums1[m+n+1] = nums1[n]\n",
    "            n -= 1\n",
    "    if n>=0:\n",
    "        nums1[:n+1] = nums2[:n+1]\n",
    "    return nums1\n",
    "        "
   ]
  },
  {
   "cell_type": "code",
   "execution_count": 24,
   "id": "c368ceb8",
   "metadata": {},
   "outputs": [],
   "source": [
    "def merge(nums1, nums2, m, n):\n",
    "    m -= 1\n",
    "    n -= 1\n",
    "    while m>=0 and n>=0:\n",
    "        if nums1[m]>nums2[n]:\n",
    "            nums1[m+n+1] = nums1[m]\n",
    "            m -= 1\n",
    "        else:\n",
    "            nums1[m+n+1] = nums2[n]\n",
    "            n -= 1\n",
    "    if n>=0:\n",
    "        nums1[:n+1] = nums2[:n+1]\n",
    "    return nums1"
   ]
  },
  {
   "cell_type": "code",
   "execution_count": 26,
   "id": "5edf2be6",
   "metadata": {},
   "outputs": [],
   "source": [
    "def partition(head, x):\n",
    "    before = before_head = ListNode(0)\n",
    "    after = after_head = ListNode(0)\n",
    "    while head:\n",
    "        if head.val < x:\n",
    "            before.next = head \n",
    "            before = before.next\n",
    "        else:\n",
    "            after.next = head \n",
    "            after = after.next \n",
    "        head = head.next\n",
    "    after.next = None \n",
    "    before.next = after_head.next\n",
    "    return before_head.next"
   ]
  },
  {
   "cell_type": "code",
   "execution_count": 27,
   "id": "6169ba78",
   "metadata": {},
   "outputs": [],
   "source": [
    "def largestArea(nums):\n",
    "    nums.append(0)\n",
    "    stack = [-1]\n",
    "    res = 0\n",
    "    for i in range(len(nums)):\n",
    "        while nums[i] < nums[stack[-1]]:\n",
    "            h = nums[stack.pop()]\n",
    "            w = i - stack[-1] - 1\n",
    "            res = max(res, h*w)\n",
    "        stack.append(i)\n",
    "    return res "
   ]
  },
  {
   "cell_type": "code",
   "execution_count": 28,
   "id": "72055503",
   "metadata": {},
   "outputs": [],
   "source": [
    "def largestArea(nums):\n",
    "    nums.append(0)\n",
    "    stack =[-1]\n",
    "    res = 0\n",
    "    for i in range(len(nums)):\n",
    "        while nums[i]>nums[stack[-1]]:\n",
    "            h = nums[stack.pop()]\n",
    "            w = i - stack[-1] - 1\n",
    "            res = max(res, h*w)\n",
    "        stack.append(i)\n",
    "    return res "
   ]
  },
  {
   "cell_type": "code",
   "execution_count": 29,
   "id": "4c148ee0",
   "metadata": {},
   "outputs": [],
   "source": [
    "def maxArea(matrix):\n",
    "    if not matrix or not matrix[0]:\n",
    "        return 0\n",
    "    n = len(matrix[0])\n",
    "    nums = [0] * (n+1)\n",
    "    res = 0\n",
    "    for row in matrix:\n",
    "        for i in range(n):\n",
    "            nums[i] = nums[i]+1 if row[i]=='1' else 0 \n",
    "        stack = [-1]\n",
    "        for i in range(n+1):\n",
    "            while nums[i]< nums[stack[-1]]:\n",
    "                h = nums[stack.pop()]\n",
    "                w = i - stack[-1]-1\n",
    "                res = max(res, w*h)\n",
    "            stack.append(i)\n",
    "    return res \n",
    "    "
   ]
  },
  {
   "cell_type": "code",
   "execution_count": 30,
   "id": "e4bcc009",
   "metadata": {},
   "outputs": [],
   "source": [
    "def maxArea(matrix):\n",
    "    if not matrix or not matrix[0]:\n",
    "        return 0 \n",
    "    n = len(matrix[0])\n",
    "    nums = [0] * (n+1)\n",
    "    res = 0\n",
    "    for row in matrix:\n",
    "        for i in range(n):\n",
    "            nums[i] = nums[i] + 1 if row[i]=='1' else 0\n",
    "        stack = [-1] \n",
    "        for i in range(n+1):\n",
    "            while nums[i] < nums[stack[-1]]:\n",
    "                h = nums[stack.pop()]\n",
    "                w = i - stack[-1]-1\n",
    "                res = max(res, h*w)\n",
    "            stack.append(i)\n",
    "    return res"
   ]
  },
  {
   "cell_type": "code",
   "execution_count": 32,
   "id": "a481d171",
   "metadata": {},
   "outputs": [],
   "source": [
    "def deleteDuplicate(head):\n",
    "    dummy = pre = ListNode(0)\n",
    "    dummy.next = head \n",
    "    while head and head.next:\n",
    "        if head.val == head.next.val:\n",
    "            while head and head.next and head.val==head.next.val:\n",
    "                head = head.next \n",
    "            pre.next = head\n",
    "        else:\n",
    "            pre = pre.next \n",
    "            head = head.next\n",
    "    return dummy.next"
   ]
  },
  {
   "cell_type": "code",
   "execution_count": 33,
   "id": "be69e37c",
   "metadata": {},
   "outputs": [],
   "source": [
    "def deleteDuplicate(head):\n",
    "    dummy = pre = ListNode(0)\n",
    "    dummy.next = head \n",
    "    while head and head.next:\n",
    "        if head.val == head.next.val:\n",
    "            while head and head.next and head.val==head.next.val:\n",
    "                head = head.next \n",
    "            pre.next = head \n",
    "        else:\n",
    "            head = head.next \n",
    "            pre = pre.next \n",
    "    return dummy.next"
   ]
  },
  {
   "cell_type": "code",
   "execution_count": 35,
   "id": "a7cb2577",
   "metadata": {},
   "outputs": [],
   "source": [
    "def deleteDuplicate(nums):\n",
    "    dummy = pre = ListNode(0)\n",
    "    dummy.next = head \n",
    "    while head and head.next:\n",
    "        if head.val==head.next.val:\n",
    "            while head and head.next and head.val==head.next.val:\n",
    "                head = head.next\n",
    "            head = head.next\n",
    "            pre.next = head \n",
    "        else:\n",
    "            head = head.next \n",
    "            pre = pre.next \n",
    "    return dummy.next"
   ]
  },
  {
   "cell_type": "code",
   "execution_count": 37,
   "id": "46a853c0",
   "metadata": {},
   "outputs": [],
   "source": [
    "def search(nums, target):\n",
    "    l, r = 0, len(nums)-1\n",
    "    while l<=r:\n",
    "        mid = (l+r)//2\n",
    "        if nums[mid]==target:\n",
    "            return True\n",
    "        while l < mid and nums[l]==nums[mid]:\n",
    "            l += 1\n",
    "        if nums[l] <= nums[mid]:\n",
    "            if nums[l] <= target <= nums[mid]:\n",
    "                r = mid - 1\n",
    "            else:\n",
    "                l = mid + 1\n",
    "        else:\n",
    "            if nums[mid] <= target <= nums[r]:\n",
    "                l = mid + 1\n",
    "            else:\n",
    "                r = mid - 1\n",
    "        return False"
   ]
  },
  {
   "cell_type": "code",
   "execution_count": 39,
   "id": "e2481baa",
   "metadata": {},
   "outputs": [],
   "source": [
    "def remove(nums):\n",
    "    if len(nums)<3:\n",
    "        return len(nums)\n",
    "    pos = 1\n",
    "    for i in range(1, len(nums)-1):\n",
    "        if nums[i-1]!=nums[i+1]:\n",
    "            nums[pos] = nums[i]\n",
    "            pos += 1\n",
    "    nums[pos] = nums[-1]\n",
    "    return pos+1 "
   ]
  },
  {
   "cell_type": "code",
   "execution_count": 42,
   "id": "8e57fc70",
   "metadata": {},
   "outputs": [
    {
     "data": {
      "text/plain": [
       "51.00000000000001"
      ]
     },
     "execution_count": 42,
     "metadata": {},
     "output_type": "execute_result"
    }
   ],
   "source": [
    "0.17*300"
   ]
  },
  {
   "cell_type": "code",
   "execution_count": 43,
   "id": "376f4e22",
   "metadata": {},
   "outputs": [],
   "source": [
    "def remove(nums):\n",
    "    if len(nums)<3:\n",
    "        return len(nums)\n",
    "    pos = 1\n",
    "    for i in range(1, len(nums)-1):\n",
    "        if nums[i-1]!=nums[i+1]:\n",
    "            nums[pos] = nums[i]\n",
    "            pos += 1\n",
    "    nums[pos] = nums[-1]\n",
    "    return pos+1"
   ]
  },
  {
   "cell_type": "code",
   "execution_count": 45,
   "id": "28131011",
   "metadata": {},
   "outputs": [],
   "source": [
    "def exist(matrix, word):\n",
    "    if not matrix:\n",
    "        return False \n",
    "    for i in range(len(matrix)):\n",
    "        for j in range(len(matrix[0])):\n",
    "            if dfs(matrix, i, j, word):\n",
    "                return True\n",
    "    return False\n",
    "\n",
    "def dfs(matrix, i, j, word):\n",
    "    if len(word)==0:\n",
    "        return True\n",
    "    if i<0 or i>=len(matrix) or j<0 or j>=len(matrix[0]) or \\\n",
    "            matrix[i][j]!=word[0]:\n",
    "        return False\n",
    "    tmp = matrix[i][j]\n",
    "    matrix[i][j] = '#'\n",
    "    res = dfs(matrix, i+1, j, word[1:]) or \\\n",
    "            dfs(matrix, i-1, j, word[1:]) or \\\n",
    "            dfs(matrix, i, j-1, word[1:]) or \\\n",
    "            dfs(matrix, i, j+1, word[1:])\n",
    "    matrix[i][j] = tmp \n",
    "    return res "
   ]
  },
  {
   "cell_type": "code",
   "execution_count": 46,
   "id": "b409c4e0",
   "metadata": {},
   "outputs": [],
   "source": [
    "def subset(nums):\n",
    "    res = []\n",
    "    nums.sort()\n",
    "    dfs(nums, 0, [], res)\n",
    "    return res \n",
    "def dfs(nums, index, path, res):\n",
    "    if path not in res:\n",
    "        res.append(path)\n",
    "    for i in range(index, len(nums)):\n",
    "        dfs(nums, i+1, path+[nums[i]], res)"
   ]
  },
  {
   "cell_type": "code",
   "execution_count": 47,
   "id": "39ead3b9",
   "metadata": {},
   "outputs": [],
   "source": [
    "def combin(n, k):\n",
    "    res = []\n",
    "    dfs(0, n, k, [], res)\n",
    "    return res \n",
    "def dfs(i, n, k, path, res):\n",
    "    if k==0:\n",
    "        res.append(path)\n",
    "        return \n",
    "    for i in range(i+1, n+1):\n",
    "        dfs(i, n, k-1, path+[i], res)\n",
    "    "
   ]
  },
  {
   "cell_type": "code",
   "execution_count": 48,
   "id": "d8044423",
   "metadata": {},
   "outputs": [],
   "source": [
    "def combine(n, k):\n",
    "    res = []\n",
    "    dfs(0, n, k, [], res)\n",
    "    return res \n",
    "def dfs(index, n, k, path, res):\n",
    "    if k==0:\n",
    "        res.append(path)\n",
    "    for i in range(index+1, n+1):\n",
    "        dfs(i, n, k-1, path+[i], res)"
   ]
  },
  {
   "cell_type": "code",
   "execution_count": 50,
   "id": "b99cfedc",
   "metadata": {},
   "outputs": [],
   "source": [
    "def sortColor(nums):\n",
    "    i, j, k = 0, 0, len(nums)-1\n",
    "    while j<=k:\n",
    "        if nums[j]==0:\n",
    "            nums[i], nums[j] = nums[j], nums[i]\n",
    "            i += 1\n",
    "            j += 1\n",
    "        elif nums[j]==1:\n",
    "            j += 1\n",
    "        else:\n",
    "            nums[j], nums[k] = nums[k], nums[j]\n",
    "            k -= 1\n",
    "    return nums       "
   ]
  },
  {
   "cell_type": "code",
   "execution_count": 52,
   "id": "4899da48",
   "metadata": {},
   "outputs": [],
   "source": [
    "def search(matrix, target):\n",
    "    if not matrix or not matrix[0]:\n",
    "        return 0\n",
    "    m, n = len(matrix), len(matrix[0])\n",
    "    left, right = 0, m*n-1\n",
    "    while left<=right:\n",
    "        mid = (left+right)//2\n",
    "        if nums[mid//n][mid%n] == target:\n",
    "            return True\n",
    "        elif nums[mid//n][mid%n]>target:\n",
    "            right = mid - 1\n",
    "        else:\n",
    "            left = mid + 1\n",
    "    return False\n",
    "    "
   ]
  },
  {
   "cell_type": "code",
   "execution_count": 53,
   "id": "6413bd67",
   "metadata": {},
   "outputs": [],
   "source": [
    "def search(matrix, target):\n",
    "    m, n = len(matrix), len(matrix[0])\n",
    "    if m==0 or n==0:\n",
    "        return False \n",
    "    left, right = 0, m*n-1\n",
    "    while left<=right:\n",
    "        mid = (left+right)//2\n",
    "        if matrix[mid//n][mid%n]==target:\n",
    "            return True\n",
    "        elif matrix[mid//n][mid%n]>target:\n",
    "            right = mid - 1\n",
    "        else:\n",
    "            left = mid + 1\n",
    "    return False  "
   ]
  },
  {
   "cell_type": "code",
   "execution_count": 54,
   "id": "2d788f1e",
   "metadata": {},
   "outputs": [],
   "source": [
    "def setZero(matrix):\n",
    "    is_col = False \n",
    "    m, n = len(matrix), len(matrix[0])\n",
    "    for i in range(m):\n",
    "        for j in range(n):\n",
    "            if matrix[i][j]==0:\n",
    "                if j==0:\n",
    "                    is_col = True\n",
    "                else:\n",
    "                    matrix[i][0] = 0\n",
    "                    matrix[0][j] = 0\n",
    "    for i in range(1, m):\n",
    "        for j in range(1, n):\n",
    "            if matrix[i][0]==0 or matrix[0][j]==0:\n",
    "                matrix[i][j] = 0\n",
    "    if matrix[0][0]==0:\n",
    "        for j in range(n):\n",
    "            matrix[0][j] = 0\n",
    "    if is_col:\n",
    "        for i in range(m):\n",
    "            matrix[i][0] = 0"
   ]
  },
  {
   "cell_type": "code",
   "execution_count": 55,
   "id": "7cc1052f",
   "metadata": {},
   "outputs": [],
   "source": [
    "def setZero(matrix):\n",
    "    m, n = len(matrix), len(matrix[0])\n",
    "    is_col = False\n",
    "    for i in range(m):\n",
    "        for j in range(n):\n",
    "            if matrix[i][j]==0:\n",
    "                if j==0:\n",
    "                    is_col = False \n",
    "                else:\n",
    "                    matrix[i][0] = 0\n",
    "                    matrix[0][j] = 0\n",
    "    for i in range(1, m):\n",
    "        for j in range(1, n):\n",
    "            if matrix[i][0]==0 or matrix[0][j]==0:\n",
    "                matrix[i][j]=0\n",
    "    if matrix[0][0]==0:\n",
    "        for j in range(n):\n",
    "            matrix[0][j] = 0\n",
    "    if is_col:\n",
    "        for i in range(m):\n",
    "            matrix[i][0] = 0"
   ]
  },
  {
   "cell_type": "code",
   "execution_count": 56,
   "id": "7450daaa",
   "metadata": {},
   "outputs": [],
   "source": [
    "def minDistance(word1, word2):\n",
    "    m, n = len(word1), len(word2)\n",
    "    dp = [[0]*(n+1) for _ in range(m+1)]\n",
    "    for i in range(m+1):\n",
    "        dp[i][0] = i\n",
    "    for j in range(n+1):\n",
    "        dp[0][j] = j\n",
    "    for i in range(1, m+1):\n",
    "        for j in range(1, n+1):\n",
    "            if word1[i-1]==word2[j-1]:\n",
    "                dp[i][j] = dp[i-1][j-1]\n",
    "            else:\n",
    "                dp[i][j] = min(dp[i-1][j-1],\n",
    "                              dp[i-1][j],\n",
    "                              dp[i][j-1]) + 1\n",
    "    return dp[-1][-1]"
   ]
  },
  {
   "cell_type": "code",
   "execution_count": 57,
   "id": "d61ffa7b",
   "metadata": {},
   "outputs": [
    {
     "data": {
      "text/plain": [
       "22"
      ]
     },
     "execution_count": 57,
     "metadata": {},
     "output_type": "execute_result"
    }
   ],
   "source": [
    "2044-2022"
   ]
  },
  {
   "cell_type": "code",
   "execution_count": 58,
   "id": "111a0801",
   "metadata": {},
   "outputs": [
    {
     "data": {
      "text/plain": [
       "264"
      ]
     },
     "execution_count": 58,
     "metadata": {},
     "output_type": "execute_result"
    }
   ],
   "source": [
    "22*12"
   ]
  },
  {
   "cell_type": "code",
   "execution_count": 60,
   "id": "2644f6b4",
   "metadata": {},
   "outputs": [],
   "source": [
    "def jump(number):\n",
    "    dp = [1 for i in range(n+1)]\n",
    "    for i in range(2, n+1):\n",
    "        dp[i] = 2*dp[i-1]\n",
    "    return dp[n]"
   ]
  },
  {
   "cell_type": "code",
   "execution_count": 61,
   "id": "7775ee2d",
   "metadata": {},
   "outputs": [],
   "source": [
    "def jump(n):\n",
    "    dp = [1 for i in range(n+1)]\n",
    "    for i in range(2, n+1):\n",
    "        dp[i] = 2*dp[i-1]\n",
    "    return dp[n]"
   ]
  },
  {
   "cell_type": "code",
   "execution_count": 62,
   "id": "5fe3d91f",
   "metadata": {},
   "outputs": [],
   "source": [
    "def climb(n):\n",
    "    if n==0:\n",
    "        return 1\n",
    "    a, b = 1, 1\n",
    "    for _ in range(2, n+1):\n",
    "        a, b = b, a+b \n",
    "    return b"
   ]
  },
  {
   "cell_type": "code",
   "execution_count": 64,
   "id": "b02dd240",
   "metadata": {},
   "outputs": [],
   "source": [
    "def climb(n):\n",
    "    d = [1 for i in range(n+1)]\n",
    "    for j in range(2, n+1):\n",
    "        dp[i] = 2*dp[i-1]\n",
    "    return dp[n]"
   ]
  },
  {
   "cell_type": "code",
   "execution_count": 65,
   "id": "9bad1fe7",
   "metadata": {},
   "outputs": [],
   "source": [
    "def climb(n):\n",
    "    if n==0:\n",
    "        return 0\n",
    "    a, b = 1, 1\n",
    "    for _ in range(2, n+1):\n",
    "        a, b = b, a+b\n",
    "    return b"
   ]
  },
  {
   "cell_type": "code",
   "execution_count": 66,
   "id": "d34df2e5",
   "metadata": {},
   "outputs": [],
   "source": [
    "def squart(x):\n",
    "    l, r = 0, x\n",
    "    while l<=r:\n",
    "        mid = (l+r)//2\n",
    "        if mid*mid<=x<(mid+1)(mid+1):\n",
    "            return mid \n",
    "        elif x < mid*mid:\n",
    "            r = mid\n",
    "        else:\n",
    "            l = mid + 1"
   ]
  },
  {
   "cell_type": "code",
   "execution_count": 67,
   "id": "27944d5e",
   "metadata": {},
   "outputs": [],
   "source": [
    "def sqrt(x):\n",
    "    l, r = 0, x\n",
    "    while l<=r:\n",
    "        mid = (l+r)//2\n",
    "        if mid*mid <= x < (mid+1)(mid+1):\n",
    "            return mid \n",
    "        elif mid*mid < x:\n",
    "            l = mid + 1\n",
    "        else:\n",
    "            r = mid"
   ]
  },
  {
   "cell_type": "code",
   "execution_count": 68,
   "id": "8b8ffe95",
   "metadata": {},
   "outputs": [],
   "source": [
    "def sqrt(x):\n",
    "    l, r = 0, x\n",
    "    while l<=r:\n",
    "        mid = (l+r)//2\n",
    "        if mid*mid<=x<(mid+1)(mid+1):\n",
    "            return mid \n",
    "        elif x<mid*mid:\n",
    "            r = mid \n",
    "        else:\n",
    "            l = mid + 1"
   ]
  },
  {
   "cell_type": "code",
   "execution_count": 69,
   "id": "6eba7add",
   "metadata": {},
   "outputs": [],
   "source": [
    "def plusOne(nums):\n",
    "    res = []\n",
    "    val = 0\n",
    "    for i, item in enumerate(nums[::-1]):\n",
    "        if i==0:\n",
    "            val, item = divmod(item+val+1, 10)\n",
    "        else:\n",
    "            val, item = divmod(item+val, 10)\n",
    "        res.append(item)\n",
    "    if val:\n",
    "        res.append(val)\n",
    "    return res[::-1]"
   ]
  },
  {
   "cell_type": "code",
   "execution_count": 71,
   "id": "44137c46",
   "metadata": {},
   "outputs": [],
   "source": [
    "def plusOne(nums):\n",
    "    res = []\n",
    "    val = 0\n",
    "    for i, item in enumerate(nums[::-1]):\n",
    "        if i==0:\n",
    "            val, item = divmod(item+val+1, 10)\n",
    "        else:\n",
    "            val, item = divmod(item+val, 10)\n",
    "        res.append(item)\n",
    "    if val:\n",
    "        res.append(val)\n",
    "    return res[::-1]"
   ]
  },
  {
   "cell_type": "code",
   "execution_count": 72,
   "id": "7490403d",
   "metadata": {},
   "outputs": [],
   "source": [
    "def minPath(matrix):\n",
    "    m, n = len(matrix), len(matrix[0])\n",
    "    for i in range(1, n):\n",
    "        matrix[0][i] += matrix[0][i-1]\n",
    "    for i in range(1, m):\n",
    "        matrix[i][0] += matrix[i-1][0]\n",
    "    for i in range(1, m):\n",
    "        for j in range(1, n):\n",
    "            matrix[i][j] += min(matrix[i-1][j], matrix[i][j-1])\n",
    "    return matrix[-1][-1]"
   ]
  },
  {
   "cell_type": "code",
   "execution_count": 73,
   "id": "f30066a8",
   "metadata": {},
   "outputs": [],
   "source": [
    "def minPath(matrix):\n",
    "    m, n = len(matrix), len(matrix[0])\n",
    "    for j in range(1, n):\n",
    "        matrix[0][j] += matrix[0][j-1]\n",
    "    for i in range(1, m):\n",
    "        matrix[i][0] += matrix[i-1][0]\n",
    "    for i in range(1, m):\n",
    "        for j in range(1, n):\n",
    "            matrix[i][j] += min(matrix[i-1][j],\n",
    "                               matrix[i][j-1])\n",
    "    return matrix[-1][-1]"
   ]
  },
  {
   "cell_type": "code",
   "execution_count": 74,
   "id": "4271b9b0",
   "metadata": {},
   "outputs": [],
   "source": [
    "def uniquePath(m, n):\n",
    "    dp = [[1 for col in range(n)] for row in range(m)]\n",
    "    if m==1 or n==1:\n",
    "        return 1\n",
    "    for i in range(1, m):\n",
    "        for j in range(1, n):\n",
    "            dp[i][j] = dp[i-1][j] + dp[i][j-1]\n",
    "    return dp[m-1][n-1]"
   ]
  },
  {
   "cell_type": "code",
   "execution_count": 76,
   "id": "c2fd3b70",
   "metadata": {},
   "outputs": [],
   "source": [
    "def uniquePath(m, n):\n",
    "    dp = [[1 for col in range(n)] for _ in range(m)]\n",
    "    if m==1 or n==1:\n",
    "        return 1\n",
    "    for i in range(1, m):\n",
    "        for j in range(1, n):\n",
    "            dp[i][j] = dp[i][j-1] + dp[i-1][j]\n",
    "    return dp[m-1][n-1]"
   ]
  },
  {
   "cell_type": "code",
   "execution_count": 78,
   "id": "5a54ede3",
   "metadata": {},
   "outputs": [],
   "source": [
    "def uniquePath(matrix):\n",
    "    m, n = len(matrix), len(matrix[0])\n",
    "    if matrix[0][0]==1:\n",
    "        return 0\n",
    "    matrix[i][j] = 1\n",
    "    for i in range(1, m):\n",
    "        matrix[i][0] = int(matrix[i][0]==0 and matrix[i-1][0]==1)\n",
    "    for j in range(1, n):\n",
    "        matrix[0][j] = int(matrix[0][j]==0 and matrix[0][j-1])\n",
    "    for i in range(1, m):\n",
    "        for j in range(1, n):\n",
    "            if matrix[i][j]==0:\n",
    "                matrix[i][j] = matrix[i-1][j] + matrix[i][j-1]\n",
    "            else:\n",
    "                matrix[i][j]=0\n",
    "    return matrix[-1][-1]"
   ]
  },
  {
   "cell_type": "code",
   "execution_count": 79,
   "id": "1f59da0f",
   "metadata": {},
   "outputs": [],
   "source": [
    "def uniquePath(matrix):\n",
    "    m, n = len(matrix), len(matrix[0])\n",
    "    if matrix[0][0]==1:\n",
    "        return 0\n",
    "    matrix[i][j] = 1\n",
    "    for i in range(1, m):\n",
    "        matrix[i][0] = int(matrix[i][0]==0 and matrix[i-1][0]==1)\n",
    "    for j in range(1, n):\n",
    "        matrix[0][j] = int(matrix[0][j]==0 and matrix[0][j-1]==1)\n",
    "    for i in range(1, m):\n",
    "        for j in range(1, n):\n",
    "            if matrix[i][j]==0:\n",
    "                matrix[i][j] = matrix[i-1][j] + matrix[i][j-1]\n",
    "            else:\n",
    "                matrix[i][j]=0\n",
    "    return matrix[-1][-1]"
   ]
  },
  {
   "cell_type": "code",
   "execution_count": 80,
   "id": "235128db",
   "metadata": {},
   "outputs": [],
   "source": [
    "def generate(n):\n",
    "    matrix, l = [], n*n+1\n",
    "    while l>1:\n",
    "        l, r = l-len(matrix), 1\n",
    "        matrix = [range(l, r)] + list(zip(*matrix[::-1]))\n",
    "    return matrix"
   ]
  },
  {
   "cell_type": "code",
   "execution_count": 83,
   "id": "5e012589",
   "metadata": {},
   "outputs": [],
   "source": [
    "def generate(n):\n",
    "    matrix, l = [], n*n+1\n",
    "    while l>1:\n",
    "        l, r = l-len(matrix), l\n",
    "        matrix = [range(l, r)] + list(zip(*matrix[::-1]))\n",
    "    return matrix"
   ]
  },
  {
   "cell_type": "code",
   "execution_count": 84,
   "id": "40647ce4",
   "metadata": {},
   "outputs": [],
   "source": [
    "def insert(interval, newInterval):\n",
    "    s, e = newInterval[0], newInterval[1]\n",
    "    left, right = [], []\n",
    "    for item in interval:\n",
    "        if item[-1]<s:\n",
    "            left.append(item)\n",
    "        elif item[0]>e:\n",
    "            right.append(item)\n",
    "        else:\n",
    "            s = min(s, item[0])\n",
    "            e = max(e, item[-1])\n",
    "    return left + [[s, e]] + right"
   ]
  },
  {
   "cell_type": "code",
   "execution_count": 85,
   "id": "6416cfd8",
   "metadata": {},
   "outputs": [],
   "source": [
    "def insert(intervals, newInterval):\n",
    "    s, e = newInterval[0], newInterval[1]\n",
    "    left, right = [], []\n",
    "    for item in intervals:\n",
    "        if item[-1]<s:\n",
    "            left.append(item)\n",
    "        elif item[0]>e:\n",
    "            right.append(item)\n",
    "        else:\n",
    "            s =  min(s, item[0])\n",
    "            e = min(e, item[-1])\n",
    "    return left + [[s, e]] + right"
   ]
  },
  {
   "cell_type": "code",
   "execution_count": 86,
   "id": "fbe05ff0",
   "metadata": {},
   "outputs": [],
   "source": [
    "def merge(nums):\n",
    "    nums.sort(key=lambda x: x[0])\n",
    "    res = []\n",
    "    for item in nums:\n",
    "        if not res or res[-1][-1]<item[0]:\n",
    "            res.append(item)\n",
    "        else:\n",
    "            res[-1][-1] = max(res[-1][-1], item[-1])\n",
    "    return res"
   ]
  },
  {
   "cell_type": "code",
   "execution_count": 87,
   "id": "48cc15b2",
   "metadata": {},
   "outputs": [],
   "source": [
    "def merge(nums):\n",
    "    nums.sort(key=lambda x: x[0])\n",
    "    res = []\n",
    "    for item in nums:\n",
    "        if not res or res[-1][-1]<item[0]:\n",
    "            res.append(item)\n",
    "        else:\n",
    "            res[-1][-1] = max(res[-1][-1], item[-1])\n",
    "    return res"
   ]
  },
  {
   "cell_type": "code",
   "execution_count": 88,
   "id": "5abf2be7",
   "metadata": {},
   "outputs": [],
   "source": [
    "def canJump(nums):\n",
    "    m = 0\n",
    "    for i, item in enumerate(nums):\n",
    "        if m<i:\n",
    "            return False \n",
    "        m = max(m, i+item)\n",
    "    return True"
   ]
  },
  {
   "cell_type": "code",
   "execution_count": 89,
   "id": "a139fc67",
   "metadata": {},
   "outputs": [],
   "source": [
    "def canJump(nums):\n",
    "    m = 0\n",
    "    for i, item in enumerate(nums):\n",
    "        if m<i:\n",
    "            return False \n",
    "        m = max(m, i+item)\n",
    "    return True"
   ]
  },
  {
   "cell_type": "code",
   "execution_count": 90,
   "id": "a1a79c14",
   "metadata": {},
   "outputs": [],
   "source": [
    "def func(matrix):\n",
    "    res = []\n",
    "    while matrix:\n",
    "        res += matrix.pop(0)\n",
    "        matrix = list(zip(*matrix))[::-1]\n",
    "    return res "
   ]
  },
  {
   "cell_type": "code",
   "execution_count": 94,
   "id": "83855285",
   "metadata": {},
   "outputs": [
    {
     "data": {
      "text/plain": [
       "[(6, 9), (5, 8), (4, 7)]"
      ]
     },
     "execution_count": 94,
     "metadata": {},
     "output_type": "execute_result"
    }
   ],
   "source": [
    "matrix = [[4,5,6],[7,8,9]]\n",
    "list(zip(*matrix))[::-1]"
   ]
  },
  {
   "cell_type": "code",
   "execution_count": 95,
   "id": "197b5dd8",
   "metadata": {},
   "outputs": [],
   "source": [
    "def spiralOrder(matrix):\n",
    "    res = []\n",
    "    while matrix:\n",
    "        res += matrix.pop(0)\n",
    "        matrix = list(zip(*matrix))[::-1]\n",
    "    return res"
   ]
  },
  {
   "cell_type": "code",
   "execution_count": 96,
   "id": "02b464ba",
   "metadata": {},
   "outputs": [],
   "source": [
    "def func(matrix):\n",
    "    res = []\n",
    "    while matrix:\n",
    "        res += matrix.pop(0)\n",
    "        matrix += list(zip(*matrix))[::-1]\n",
    "    return res"
   ]
  },
  {
   "cell_type": "code",
   "execution_count": 97,
   "id": "5f106aa5",
   "metadata": {},
   "outputs": [],
   "source": [
    "def maxSubArray(nums):\n",
    "    curSum = maxSum = nums[0]\n",
    "    for item in nums[1:]:\n",
    "        curSum = max(curSum+item, item)\n",
    "        maxSum = max(maxSum, curSum)\n",
    "    return maxSum"
   ]
  },
  {
   "cell_type": "code",
   "execution_count": 98,
   "id": "7c00835e",
   "metadata": {},
   "outputs": [],
   "source": [
    "def maxSubArray(nums):\n",
    "    curSum = maxSum = nums[0]\n",
    "    for item in nums[1:]:\n",
    "        curSum = max(item, curSum+item)\n",
    "        maxSum = max(curSum, maxSum)\n",
    "    return maxSum"
   ]
  },
  {
   "cell_type": "code",
   "execution_count": 99,
   "id": "9c75a6f7",
   "metadata": {},
   "outputs": [],
   "source": [
    "def mypow(x, n):\n",
    "    if n==0:\n",
    "        return 1\n",
    "    if n<0:\n",
    "        x = 1/x\n",
    "    x0 = x*x\n",
    "    return mypow(x0, n//2) if n%2==0 else x*mypow(x0, n//2) "
   ]
  },
  {
   "cell_type": "code",
   "execution_count": 100,
   "id": "e2a5b503",
   "metadata": {},
   "outputs": [],
   "source": [
    "def mypow(x, n):\n",
    "    if n==0:\n",
    "        return 1\n",
    "    if n<0:\n",
    "        x = 1/x\n",
    "    n = abs(n)\n",
    "    x0 = x*x\n",
    "    return mypow(x0, n//2) if n%2==0 else x*mypow(x0, n//2)"
   ]
  },
  {
   "cell_type": "code",
   "execution_count": 101,
   "id": "9d5db303",
   "metadata": {},
   "outputs": [],
   "source": [
    "def groupAnagram(strs):\n",
    "    res = dict()\n",
    "    for item in strs:\n",
    "        count = [0]*26\n",
    "        for c in item:\n",
    "            count[ord(c)-ord('a')] += 1\n",
    "        if tuple(count) not in d:\n",
    "            d[tuple(count)] = [item]\n",
    "        else:\n",
    "            d[tuple(count)].append(item)\n",
    "    return res.values()"
   ]
  },
  {
   "cell_type": "code",
   "execution_count": 102,
   "id": "84344012",
   "metadata": {},
   "outputs": [],
   "source": [
    "def groupAnagram(strs):\n",
    "    res = dict()\n",
    "    for item in strs:\n",
    "        count = [0]*26\n",
    "        for c in count:\n",
    "            count[ord(c)-ord('a')] += 1\n",
    "        if tuple(count) not in res:\n",
    "            res[tuple(count)] = [item]\n",
    "        else:\n",
    "            res[tuple(count)].append(item)\n",
    "    return res.values()\n",
    "            "
   ]
  },
  {
   "cell_type": "code",
   "execution_count": 103,
   "id": "648f6ecb",
   "metadata": {},
   "outputs": [],
   "source": [
    "def permuta(nums):\n",
    "    res = []\n",
    "    nums.sort()\n",
    "    dfs(nums, None, [], res)\n",
    "    return res \n",
    "def dfs(nums, pre, path, res):\n",
    "    if not nums:\n",
    "        res.append(list(path))\n",
    "    pre = None\n",
    "    for i in range(len(nums)):\n",
    "        if nums[i]==pre:\n",
    "            continue\n",
    "        path.append(nums[i])\n",
    "        dfs(nums[:i]+nums[i+1:], nums[i], path, res)\n",
    "        path.pop()\n",
    "        pre = nums[i]"
   ]
  },
  {
   "cell_type": "code",
   "execution_count": 104,
   "id": "b2c992bf",
   "metadata": {},
   "outputs": [],
   "source": [
    "def pemuta(nums):\n",
    "    res = []\n",
    "    nums.sort()\n",
    "    dfs(nums, None, [], res)\n",
    "    return res \n",
    "def dfs(nums, pre, path, res):\n",
    "    if not nums:\n",
    "        res.append(list(path))\n",
    "    pre = None\n",
    "    for i in range(len(nums)):\n",
    "        if nums[i]==pre:\n",
    "            continue\n",
    "        path.append(nums[i])\n",
    "        dfs(nums[:i]+nums[i+1:], nums[i], path, res)\n",
    "        path.pop()\n",
    "        pre = nums[i]"
   ]
  },
  {
   "cell_type": "code",
   "execution_count": 105,
   "id": "e6679742",
   "metadata": {},
   "outputs": [],
   "source": [
    "def pemute(nums):\n",
    "    res = []\n",
    "    dfs(nums, [], res)\n",
    "    return res \n",
    "def dfs(nums, path, res):\n",
    "    if not nums:\n",
    "        res.append(path)\n",
    "    for i in range(len(nums)):\n",
    "        dfs(nums[:i]+nums[i+1:], path+[nums[i]], res)"
   ]
  },
  {
   "cell_type": "code",
   "execution_count": 106,
   "id": "fe4c8124",
   "metadata": {},
   "outputs": [],
   "source": [
    "def pemute(nums):\n",
    "    res = []\n",
    "    dfs(nums, [], res)\n",
    "    return res \n",
    "def dfs(nums, path, res):\n",
    "    if not nums:\n",
    "        res.append(path)\n",
    "    for i in range(len(nums)):\n",
    "        dfs(nums[:i]+nums[i+1:], path+[nums[i]], res)"
   ]
  },
  {
   "cell_type": "code",
   "execution_count": 107,
   "id": "06ad75ab",
   "metadata": {},
   "outputs": [],
   "source": [
    "def jump(nums):\n",
    "    start, end, step = 0, 0, 0\n",
    "    while end < len(nums)-1:\n",
    "        step += 1\n",
    "        maxend = end + 1\n",
    "        for i in range(start, end+1):\n",
    "            if i+nums[i]>=len(nums)-1:\n",
    "                return step\n",
    "            maxend = max(maxend, i+nums[i])\n",
    "        start, end = end+1, maxend\n",
    "    return step"
   ]
  },
  {
   "cell_type": "code",
   "execution_count": 108,
   "id": "acd331d5",
   "metadata": {},
   "outputs": [],
   "source": [
    "def jump(nums):\n",
    "    start, end, step = 0, 0, 0\n",
    "    while end<len(nums)-1:\n",
    "        step += 1\n",
    "        maxend = end+1\n",
    "        for i in range(start, end+1):\n",
    "            if i+nums[i]>=len(nums)-1:\n",
    "                return step \n",
    "            maxend = max(maxend, i+nums[i])\n",
    "        start, end = end+1, maxend\n",
    "    return step"
   ]
  },
  {
   "cell_type": "code",
   "execution_count": 109,
   "id": "af5b7305",
   "metadata": {},
   "outputs": [],
   "source": [
    "def jump(nums):\n",
    "    start, end, step = 0, 0, 0\n",
    "    while end<len(nums)-1:\n",
    "        step += 1\n",
    "        maxend = end+1\n",
    "        for i in range(start, end+1):\n",
    "            if i+nums[i]>=len(nums)-1:\n",
    "                return step\n",
    "            maxend = max(maxend, i+nums[i])\n",
    "        start, end = end+1, maxend\n",
    "    return step"
   ]
  },
  {
   "cell_type": "code",
   "execution_count": 110,
   "id": "68f55762",
   "metadata": {},
   "outputs": [],
   "source": [
    "def maxArea(nums):\n",
    "    if not nums or len(nums)<3:\n",
    "        return 0\n",
    "    res = 0\n",
    "    left, right = 0, len(nums)-1\n",
    "    left_max, right_max = nums[left], nums[right]\n",
    "    while left<=right:\n",
    "        if nums[left]<nums[right]:\n",
    "            if nums[left] > left_max:\n",
    "                left_max = nums[left]\n",
    "            else:\n",
    "                res += left_max - nums[left]\n",
    "            left += 1\n",
    "        else:\n",
    "            if nums[right] > right_max:\n",
    "                right_max = nums[right]\n",
    "            else:\n",
    "                res += right_max - nums[right]\n",
    "            right -= 1\n",
    "    return res"
   ]
  },
  {
   "cell_type": "code",
   "execution_count": 111,
   "id": "a2f8cb62",
   "metadata": {},
   "outputs": [],
   "source": [
    "def fisrtMissing(nums):\n",
    "    for i in range(len(nums)):\n",
    "        while 0<=nums[i]-1<len(nums) and nums[nums[i]-1]!=nums[i]:\n",
    "            tmp = nums[i]-1\n",
    "            nums[tmp], nums[i] = nums[i], nums[tmp]\n",
    "    for i in range(len(nums)):\n",
    "        if nums[i]!=i+1:\n",
    "            return i+1\n",
    "    return len(nums)+1"
   ]
  },
  {
   "cell_type": "code",
   "execution_count": 113,
   "id": "6f2b9dec",
   "metadata": {},
   "outputs": [],
   "source": [
    "def firstMissing(nums):\n",
    "    for i in range(len(nums)):\n",
    "        while 0<=nums[i]-1<len(nums) and nums[nums[i]-1]!=nums[i]:\n",
    "            tmp = nums[i]\n",
    "            nums[i], nums[tmp] = nums[tmp], nums[i]\n",
    "    for i in range(len(nums)):\n",
    "        if nums[i]!=i+1:\n",
    "            return i+1\n",
    "    return len(nums)+1    "
   ]
  },
  {
   "cell_type": "code",
   "execution_count": 114,
   "id": "972d9b63",
   "metadata": {},
   "outputs": [],
   "source": [
    "def combine(nums, target):\n",
    "    nums.sort()\n",
    "    res = []\n",
    "    dfs(nums, target, 0, [], res)\n",
    "    return res \n",
    "def dfs(nums, target, index, path, res):\n",
    "    if target<0:\n",
    "        return \n",
    "    if target==0:\n",
    "        res.append(path)\n",
    "    for i in range(index, len(nums)):\n",
    "        dfs(nums, target-nums[i], i, path+[nums[i]], res)"
   ]
  },
  {
   "cell_type": "code",
   "execution_count": 115,
   "id": "87278a61",
   "metadata": {},
   "outputs": [],
   "source": [
    "def combine(nums, target):\n",
    "    nums.sort()\n",
    "    res = []\n",
    "    dfs(nums, target, 0, [], res)\n",
    "    return res \n",
    "def dfs(nums, target, index, path, res):\n",
    "    if target<0:\n",
    "        return \n",
    "    if target==0:\n",
    "        res.append(path)\n",
    "    for i in range(index, len(nums)):\n",
    "        dfs(nums, target-nums[i], i, path+[nums[i]], res)"
   ]
  },
  {
   "cell_type": "code",
   "execution_count": 116,
   "id": "5f95bc5c",
   "metadata": {},
   "outputs": [],
   "source": [
    "def combine(nums, target):\n",
    "    nums.sort()\n",
    "    res = []\n",
    "    dfs(nums, target, 0, [], res)\n",
    "    return res \n",
    "def dfs(nums, target, index, path, res):\n",
    "    if target<0:\n",
    "        return \n",
    "    if target==0:\n",
    "        res.append(path)\n",
    "    for i in range(index, len(nums)):\n",
    "        if i>index and nums[i]==nums[i-1]:\n",
    "            continue\n",
    "        dfs(nums, target-nums[i], i+1, path+[nums[i]], res)"
   ]
  },
  {
   "cell_type": "code",
   "execution_count": 117,
   "id": "3bd11507",
   "metadata": {},
   "outputs": [],
   "source": [
    "def search(nums, target):\n",
    "    left, right = search_left(nums, target), \\\n",
    "                        search_right(nums, target)\n",
    "    def search_left(nums, target):\n",
    "        left, right = 0, len(nums)-1\n",
    "        while l<=r:\n",
    "            mid = (l+r)//2\n",
    "            if target>nums[mid]:\n",
    "                left = mid + 1\n",
    "            else:\n",
    "                right = mid - 1\n",
    "        return left \n",
    "    def search_right(nums, target):\n",
    "        left, right = 0, len(nums)-1\n",
    "        while left<=right:\n",
    "            mid = (left+right)//2\n",
    "            if target >= nums[mid]:\n",
    "                left = mid +1\n",
    "            else:\n",
    "                right = mid - 1\n",
    "        return right\n",
    "\n",
    "    return (left, right) if left<=right else [-1, -1]"
   ]
  },
  {
   "cell_type": "code",
   "execution_count": 118,
   "id": "89620e24",
   "metadata": {},
   "outputs": [],
   "source": [
    "def search(nums, target):\n",
    "    def search_left(nums, target):\n",
    "        left, right = 0, len(nums)-1\n",
    "        while left<=right:\n",
    "            mid = (left+right)//2\n",
    "            if nums[mid]<target:\n",
    "                left = mid + 1\n",
    "            else:\n",
    "                right = mid - 1\n",
    "        return left \n",
    "    def search_right(nums, target):\n",
    "        left, right = 0, len(nums)-1\n",
    "        while left<=right:\n",
    "            mid = (left+right)//2\n",
    "            if nums[mid] <= target:\n",
    "                left = mid+ 1\n",
    "            else:\n",
    "                right = mid - 1\n",
    "        return right\n",
    "                \n",
    "    def search_right(nums, target):\n",
    "        pass\n",
    "    left, right = search_left(nums, target), \\\n",
    "                            search_right(nums, target)\n",
    "    return (left, right) if left<=right else [-1, -1]\n",
    "    "
   ]
  },
  {
   "cell_type": "code",
   "execution_count": 119,
   "id": "645db691",
   "metadata": {},
   "outputs": [],
   "source": [
    "def nlongest(s):\n",
    "    left, right = 0, 0\n",
    "    res = 0\n",
    "    for item in s:\n",
    "        if item=='(':\n",
    "            left += 1\n",
    "        else:\n",
    "            right+= 1\n",
    "        if left==right:\n",
    "            res = max(res, 2*right)\n",
    "        elif right>left:\n",
    "            left, right = 0, 0\n",
    "    left, right = 0, 0\n",
    "    for item in s[::-1]:\n",
    "        if item == '(':\n",
    "            left += 1\n",
    "        else:\n",
    "            right += 1\n",
    "        if left==right:\n",
    "            res = max(res, 2*left)\n",
    "        elif left>right:\n",
    "            left, right = 0, 0\n",
    "    return res"
   ]
  },
  {
   "cell_type": "code",
   "execution_count": 120,
   "id": "016899ce",
   "metadata": {},
   "outputs": [],
   "source": [
    "def nextPermutation(nums):\n",
    "    i = len(nums)-2\n",
    "    while i>=0 and nums[i]>=nums[i+1]:\n",
    "        i -= 1\n",
    "    if i>=0:\n",
    "        j = len(nums)-1\n",
    "        while j>=0 and nums[j]<=nums[i]:\n",
    "            j -= 1\n",
    "        nums[i], nums[j] = nums[j], nums[i]\n",
    "    l, r = i+1, len(nums)-1\n",
    "    while l<r:\n",
    "        nums[l], nums[r] = nums[r], nums[l]\n",
    "        l += 1\n",
    "        r -= 1"
   ]
  },
  {
   "cell_type": "code",
   "execution_count": 122,
   "id": "92776604",
   "metadata": {},
   "outputs": [],
   "source": [
    "def nextPermutiton(nums):\n",
    "    i = len(nums)-2\n",
    "    while i>=0 and nums[i]>=nums[i+1]:\n",
    "        i -= 1\n",
    "    if i>=0:\n",
    "        j = len(nums)-1\n",
    "        while j>=0 and nums[j]<=nums[i]:\n",
    "            j -= 1\n",
    "        nums[i], nums[j] = nums[j], nums[i]\n",
    "    l, r = i+1, len(nums)-1\n",
    "    while l<r:\n",
    "        nums[l], nums[r] = nums[r], nums[l]\n",
    "        l += 1\n",
    "        r -= 1"
   ]
  },
  {
   "cell_type": "code",
   "execution_count": null,
   "id": "cab18c3d",
   "metadata": {},
   "outputs": [],
   "source": []
  }
 ],
 "metadata": {
  "kernelspec": {
   "display_name": "Python 3 (ipykernel)",
   "language": "python",
   "name": "python3"
  },
  "language_info": {
   "codemirror_mode": {
    "name": "ipython",
    "version": 3
   },
   "file_extension": ".py",
   "mimetype": "text/x-python",
   "name": "python",
   "nbconvert_exporter": "python",
   "pygments_lexer": "ipython3",
   "version": "3.8.9"
  }
 },
 "nbformat": 4,
 "nbformat_minor": 5
}
