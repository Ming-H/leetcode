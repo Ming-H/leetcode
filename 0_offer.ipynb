{
 "cells": [
  {
   "cell_type": "code",
   "execution_count": null,
   "metadata": {},
   "outputs": [],
   "source": [
    "# JZ8 二叉树的下一个结点\n",
    "# 给定一个二叉树其中的一个结点，请找出中序遍历顺序的下一个结点并且返回。\n",
    "# 注意，树中的结点不仅包含左右子结点，同时包含指向父结点的next指针。\n",
    "\n",
    "# 直接寻找分为三种情况\n",
    "\n",
    "# 如果给出的结点有右子节点，则最终要返回的下一个结点即右子树的最左下的结点\n",
    "# 如果给出的结点无右子节点，且当前结点是其父节点的左子节点，则返回其父节点\n",
    "# 如果给出的结点无右子节点，且当前结点是其父节点的右子节点，则先要沿着左上方父节点爬树，\n",
    "# 一直爬到当前结点是其父节点的左子节点为止，返回的就是这个父节点；\n",
    "# 或者没有满足上述情况的则返回为NULL\n",
    "\n",
    "class Solution:\n",
    "    def GetNext(self, pNode):\n",
    "        # 情况一\n",
    "        if pNode.right:\n",
    "            rchild = pNode.right\n",
    "            # 一直找到右子树的最左下的结点为返回值\n",
    "            while rchild.left:\n",
    "                rchild = rchild.left\n",
    "            return rchild\n",
    "\n",
    "        # 情况二\n",
    "        # 如果无右子树且当前结点是其父节点的左子结点\n",
    "        if pNode.next and pNode.next.left == pNode:\n",
    "            return pNode.next\n",
    "\n",
    "        # 情况三\n",
    "        if pNode.next:\n",
    "            ppar = pNode.next\n",
    "            # 沿着左上一直爬树，爬到当前结点是其父节点的左自己结点为止\n",
    "            while ppar.next and ppar.next.right == ppar:\n",
    "                ppar = ppar.next\n",
    "            return ppar.next\n",
    "\n",
    "        return None\n"
   ]
  },
  {
   "cell_type": "code",
   "execution_count": null,
   "metadata": {},
   "outputs": [],
   "source": []
  }
 ],
 "metadata": {
  "language_info": {
   "name": "python"
  },
  "orig_nbformat": 4
 },
 "nbformat": 4,
 "nbformat_minor": 2
}
