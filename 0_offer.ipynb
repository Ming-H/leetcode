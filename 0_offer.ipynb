{
 "cells": [
  {
   "cell_type": "code",
   "execution_count": null,
   "metadata": {},
   "outputs": [],
   "source": [
    "# JZ8 二叉树的下一个结点\n",
    "# 给定一个二叉树其中的一个结点，请找出中序遍历顺序的下一个结点并且返回。\n",
    "# 注意，树中的结点不仅包含左右子结点，同时包含指向父结点的next指针。\n",
    "\n",
    "# 直接寻找分为三种情况\n",
    "\n",
    "# 如果给出的结点有右子节点，则最终要返回的下一个结点即右子树的最左下的结点\n",
    "# 如果给出的结点无右子节点，且当前结点是其父节点的左子节点，则返回其父节点\n",
    "# 如果给出的结点无右子节点，且当前结点是其父节点的右子节点，则先要沿着左上方父节点爬树，\n",
    "# 一直爬到当前结点是其父节点的左子节点为止，返回的就是这个父节点；\n",
    "# 或者没有满足上述情况的则返回为NULL\n",
    "\n",
    "class Solution:\n",
    "    def GetNext(self, pNode):\n",
    "        # 情况一\n",
    "        if pNode.right:\n",
    "            rchild = pNode.right\n",
    "            # 一直找到右子树的最左下的结点为返回值\n",
    "            while rchild.left:\n",
    "                rchild = rchild.left\n",
    "            return rchild\n",
    "\n",
    "        # 情况二\n",
    "        # 如果无右子树且当前结点是其父节点的左子结点\n",
    "        if pNode.next and pNode.next.left == pNode:\n",
    "            return pNode.next\n",
    "\n",
    "        # 情况三\n",
    "        if pNode.next:\n",
    "            ppar = pNode.next\n",
    "            # 沿着左上一直爬树，爬到当前结点是其父节点的左自己结点为止\n",
    "            while ppar.next and ppar.next.right == ppar:\n",
    "                ppar = ppar.next\n",
    "            return ppar.next\n",
    "\n",
    "        return None\n"
   ]
  },
  {
   "cell_type": "code",
   "execution_count": 1,
   "metadata": {},
   "outputs": [],
   "source": [
    "# JZ59 滑动窗口的最大值\n",
    "\n",
    "# 给定一个长度为 n 的数组 nums 和滑动窗口的大小 size ，找出所有滑动窗口里数值的最大值。\n",
    "# 例如，如果输入数组{2,3,4,2,6,2,5,1}及滑动窗口的大小3，那么一共存在6个滑动窗口，他们的最大值分别为{4,4,6,6,6,5}；\n",
    "# 窗口大于数组长度或窗口长度为0的时候，返回空。\n",
    "\n",
    "class Solution:\n",
    "    def maxInWindows(nums, size):\n",
    "        res = []\n",
    "         #窗口大于数组长度的时候，返回空\n",
    "        if size <= len(nums) and size != 0:\n",
    "            from collections import deque\n",
    "            #双向队列\n",
    "            dq = deque()\n",
    "            #先遍历一个窗口\n",
    "            for i in range(size):\n",
    "                #去掉比自己先进队列的小于自己的值\n",
    "                while len(dq) != 0 and nums[dq[-1]] < nums[i]:\n",
    "                     dq.pop()\n",
    "                dq.append(i)\n",
    "            #遍历后续数组元素\n",
    "            for i in range(size, len(nums)):\n",
    "                res.append(nums[dq[0]])\n",
    "                while len(dq) != 0 and dq[0] < (i - size + 1):\n",
    "                    #弹出窗口移走后的值\n",
    "                    dq.popleft()\n",
    "                #加入新的值前，去掉比自己先进队列的小于自己的值 \n",
    "                while len(dq) != 0 and nums[dq[-1]] < nums[i]:\n",
    "                    dq.pop()\n",
    "                dq.append(i)\n",
    "            res.append(nums[dq[0]])\n",
    "        return res\n",
    "\n"
   ]
  },
  {
   "cell_type": "code",
   "execution_count": 2,
   "metadata": {},
   "outputs": [],
   "source": [
    "# JZ44 数字序列中的某一位的数字\n",
    "# 描：数字以 0123456789101112131415... 的格式作为一个字符序列，在这个序列中第 2 位\n",
    "# （从下标 0 开始计算）是 2 ，第 10 位是 1 ，第 13 位是 1 ，以此类题，请你输出第 n 位对应的数字。\n",
    "\n",
    "class Solution:\n",
    "    def findNthDigit(n):\n",
    "        i = 1\n",
    "        while i * pow(10, i) < n:\n",
    "            n += pow(10, i)\n",
    "            i += 1\n",
    "        return int(str(n//i)[n%i])\n"
   ]
  },
  {
   "cell_type": "code",
   "execution_count": null,
   "metadata": {},
   "outputs": [],
   "source": []
  }
 ],
 "metadata": {
  "kernelspec": {
   "display_name": "base",
   "language": "python",
   "name": "python3"
  },
  "language_info": {
   "codemirror_mode": {
    "name": "ipython",
    "version": 3
   },
   "file_extension": ".py",
   "mimetype": "text/x-python",
   "name": "python",
   "nbconvert_exporter": "python",
   "pygments_lexer": "ipython3",
   "version": "3.10.9"
  },
  "orig_nbformat": 4
 },
 "nbformat": 4,
 "nbformat_minor": 2
}
